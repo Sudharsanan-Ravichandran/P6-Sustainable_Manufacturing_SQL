{
 "cells": [
  {
   "cell_type": "code",
   "execution_count": 3,
   "id": "20699b50",
   "metadata": {},
   "outputs": [
    {
     "name": "stdout",
     "output_type": "stream",
     "text": [
      "Connection Successful\n"
     ]
    }
   ],
   "source": [
    "import pymysql\n",
    "import pandas as pd\n",
    "from getpass import getpass\n",
    "\n",
    "connection = pymysql.connect(\n",
    "    host=\"localhost\",\n",
    "    user=\"root\",\n",
    "    password=getpass(\"Enter your password: \"),\n",
    "    database=\"projects\"\n",
    ")\n",
    "print(\"Connection Successful\")"
   ]
  },
  {
   "cell_type": "markdown",
   "id": "eb69cd18",
   "metadata": {},
   "source": [
    "1. Calculate daily material efficiency (%) for each machine"
   ]
  },
  {
   "cell_type": "code",
   "execution_count": 4,
   "id": "61994308",
   "metadata": {},
   "outputs": [
    {
     "name": "stdout",
     "output_type": "stream",
     "text": [
      "     Machine_ID        Date Material_Efficiency\n",
      "0          M001  01.01.2020              100.00\n",
      "1          M001  01.01.2020              100.00\n",
      "2          M001  01.01.2020              100.00\n",
      "3          M001  01.01.2020              100.00\n",
      "4          M001  01.01.2020              100.00\n",
      "...         ...         ...                 ...\n",
      "9995       M010  10.01.2020               99.48\n",
      "9996       M010  10.01.2020               99.48\n",
      "9997       M010  10.01.2020               99.48\n",
      "9998       M010  10.01.2020               99.48\n",
      "9999       M010  10.01.2020               99.48\n",
      "\n",
      "[10000 rows x 3 columns]\n"
     ]
    }
   ],
   "source": [
    "\n",
    "\n",
    "mycursor = connection.cursor()\n",
    "\n",
    "sql = \"\"\"SELECT Machine_ID, Date,\n",
    "       CASE \n",
    "           WHEN (Material_Used_kg - Material_Waste_kg) > 0 \n",
    "           THEN ROUND((Product_Output_Units / (Material_Used_kg - Material_Waste_kg)) * 100, 2)\n",
    "           ELSE NULL \n",
    "       END AS Material_Efficiency\n",
    "FROM sustainable_manufacturing\n",
    "WHERE Material_Used_kg > 0;\n",
    "\n",
    "\"\"\"\n",
    "\n",
    "mycursor.execute(sql)\n",
    "myresult = mycursor.fetchall()\n",
    "\n",
    "# Process results\n",
    "temp = []\n",
    "for data in myresult:\n",
    "    temp.append(data)\n",
    "\n",
    "# Create DataFrame\n",
    "columns = [desc[0] for desc in mycursor.description]\n",
    "df = pd.DataFrame(temp, columns=columns)\n",
    "print(df)\n",
    "\n",
    "# Close resources\n",
    "# mycursor.close()\n",
    "# connection.close()"
   ]
  },
  {
   "cell_type": "markdown",
   "id": "228db5a8",
   "metadata": {},
   "source": [
    "2. Find machines with energy consumption per output unit > 2kWh/unit"
   ]
  },
  {
   "cell_type": "code",
   "execution_count": 5,
   "id": "e6d52557",
   "metadata": {},
   "outputs": [
    {
     "name": "stdout",
     "output_type": "stream",
     "text": [
      "     Machine_ID Energy_Per_Unit\n",
      "0          M001          0.7111\n",
      "1          M001          0.7111\n",
      "2          M001          0.7111\n",
      "3          M001          0.7111\n",
      "4          M001          0.7111\n",
      "...         ...             ...\n",
      "9995       M010          0.6579\n",
      "9996       M010          0.6579\n",
      "9997       M010          0.6579\n",
      "9998       M010          0.6579\n",
      "9999       M010          0.6579\n",
      "\n",
      "[10000 rows x 2 columns]\n"
     ]
    }
   ],
   "source": [
    "\n",
    "mycursor = connection.cursor()\n",
    "\n",
    "sql = \"\"\"WITH energy_stats AS (\n",
    "    SELECT Machine_ID,\n",
    "           Energy_Consumption_kWh / NULLIF(Product_Output_Units, 0) AS Energy_Per_Unit\n",
    "    FROM sustainable_manufacturing\n",
    ")\n",
    "SELECT Machine_ID, Energy_Per_Unit\n",
    "FROM energy_stats \n",
    "WHERE Energy_Per_Unit > 0.2;\n",
    "\n",
    "\"\"\"\n",
    "\n",
    "mycursor.execute(sql)\n",
    "myresult = mycursor.fetchall()\n",
    "\n",
    "# Process results\n",
    "temp = []\n",
    "for data in myresult:\n",
    "    temp.append(data)\n",
    "\n",
    "# Create DataFrame\n",
    "columns = [desc[0] for desc in mycursor.description]\n",
    "df = pd.DataFrame(temp, columns=columns)\n",
    "print(df)\n"
   ]
  },
  {
   "cell_type": "markdown",
   "id": "45800728",
   "metadata": {},
   "source": [
    "3. Calculate weekly water savings percentage"
   ]
  },
  {
   "cell_type": "code",
   "execution_count": 6,
   "id": "26abb8a1",
   "metadata": {},
   "outputs": [
    {
     "name": "stdout",
     "output_type": "stream",
     "text": [
      "  Machine_ID  Year  Week Water_Savings_Pct\n",
      "0       M001  2001     2             20.00\n",
      "1       M002  2002     3             16.67\n",
      "2       M003  2003     3             20.00\n",
      "3       M004  2004     3             14.12\n",
      "4       M005  2005     3             20.00\n",
      "5       M006  2006     3             19.57\n",
      "6       M007  2007     2             17.78\n",
      "7       M008  2008     3             20.00\n",
      "8       M009  2009     3             20.00\n",
      "9       M010  2010     3             17.50\n"
     ]
    }
   ],
   "source": [
    "\n",
    "mycursor = connection.cursor()\n",
    "\n",
    "sql = \"\"\"SELECT Machine_ID, YEAR(Date) AS Year, WEEK(Date) AS Week,\n",
    "       ROUND((SUM(Water_Recycled_Liters)/SUM(Water_Consumption_Liters)) * 100, 2) AS Water_Savings_Pct\n",
    "FROM sustainable_manufacturing\n",
    "GROUP BY Machine_ID, Year, Week;\n",
    "\n",
    "\"\"\"\n",
    "\n",
    "mycursor.execute(sql)\n",
    "myresult = mycursor.fetchall()\n",
    "\n",
    "# Process results\n",
    "temp = []\n",
    "for data in myresult:\n",
    "    temp.append(data)\n",
    "\n",
    "# Create DataFrame\n",
    "columns = [desc[0] for desc in mycursor.description]\n",
    "df = pd.DataFrame(temp, columns=columns)\n",
    "print(df)\n"
   ]
  },
  {
   "cell_type": "markdown",
   "id": "d76abf7e",
   "metadata": {},
   "source": [
    "4. Rank machines by CO₂ emissions per product unit"
   ]
  },
  {
   "cell_type": "code",
   "execution_count": 7,
   "id": "1aedf362",
   "metadata": {},
   "outputs": [
    {
     "name": "stdout",
     "output_type": "stream",
     "text": [
      "  Machine_ID  Emission_Rank\n",
      "0       M003              1\n",
      "1       M006              2\n",
      "2       M002              3\n",
      "3       M008              4\n",
      "4       M005              5\n",
      "5       M001              6\n",
      "6       M007              6\n",
      "7       M009              6\n",
      "8       M004              9\n",
      "9       M010             10\n"
     ]
    }
   ],
   "source": [
    "\n",
    "mycursor = connection.cursor()\n",
    "\n",
    "sql = \"\"\"SELECT Machine_ID,\n",
    "       RANK() OVER (ORDER BY SUM(CO2_Emission_kg)/NULLIF(SUM(Product_Output_Units),0) DESC) AS Emission_Rank\n",
    "FROM sustainable_manufacturing\n",
    "GROUP BY Machine_ID;\n",
    "\n",
    "\"\"\"\n",
    "\n",
    "mycursor.execute(sql)\n",
    "myresult = mycursor.fetchall()\n",
    "\n",
    "# Process results\n",
    "temp = []\n",
    "for data in myresult:\n",
    "    temp.append(data)\n",
    "\n",
    "# Create DataFrame\n",
    "columns = [desc[0] for desc in mycursor.description]\n",
    "df = pd.DataFrame(temp, columns=columns)\n",
    "print(df)\n"
   ]
  },
  {
   "cell_type": "markdown",
   "id": "7be58540",
   "metadata": {},
   "source": [
    "5. Identify machines where material waste exceeds 15% of total material used"
   ]
  },
  {
   "cell_type": "code",
   "execution_count": 8,
   "id": "40cbc668",
   "metadata": {},
   "outputs": [
    {
     "name": "stdout",
     "output_type": "stream",
     "text": [
      "  machine_id  total_waste ten_percent_waste\n",
      "0       M001      50000.0          45500.00\n",
      "1       M005      55000.0          45500.00\n",
      "2       M008      60000.0          45500.00\n",
      "3       M009      50000.0          45500.00\n"
     ]
    }
   ],
   "source": [
    "\n",
    "mycursor = connection.cursor()\n",
    "\n",
    "sql = \"\"\"WITH waste AS (\n",
    "\t\t\t\tSELECT machine_id, CAST(SUM(material_waste_kg) AS float) AS total_waste,\n",
    "                0.10 * (SELECT SUM(material_waste_kg) FROM sustainable_manufacturing) AS ten_percent_waste\n",
    "                FROM sustainable_manufacturing\n",
    "                GROUP BY machine_id)\n",
    "\n",
    "SELECT machine_id, total_waste, ten_percent_waste\n",
    "FROM waste\n",
    "WHERE total_waste > 0.10 * (SELECT SUM(material_waste_kg) FROM sustainable_manufacturing)\n",
    ";\n",
    "\n",
    "\"\"\"\n",
    "\n",
    "mycursor.execute(sql)\n",
    "myresult = mycursor.fetchall()\n",
    "\n",
    "# Process results\n",
    "temp = []\n",
    "for data in myresult:\n",
    "    temp.append(data)\n",
    "\n",
    "# Create DataFrame\n",
    "columns = [desc[0] for desc in mycursor.description]\n",
    "df = pd.DataFrame(temp, columns=columns)\n",
    "print(df)\n"
   ]
  },
  {
   "cell_type": "markdown",
   "id": "42017a87",
   "metadata": {},
   "source": [
    "6. Compare machines' productivity changes between first and last weeks of January 2020"
   ]
  },
  {
   "cell_type": "code",
   "execution_count": 13,
   "id": "58d579b1",
   "metadata": {},
   "outputs": [
    {
     "name": "stdout",
     "output_type": "stream",
     "text": [
      "Empty DataFrame\n",
      "Columns: [machine_id, energy_productivity]\n",
      "Index: []\n"
     ]
    }
   ],
   "source": [
    "\n",
    "mycursor = connection.cursor()\n",
    "\n",
    "sql = \"\"\"WITH first_week_tbl AS (\n",
    "SELECT machine_id,\n",
    "\t\tAVG(energy_consumption_kwh / product_output_units) * 100 AS energy_productivity\n",
    "FROM sustainable_manufacturing\n",
    "WHERE WEEK(date, 3) = (SELECT WEEK(\"2020-01-01\", 3) AS firstweek)\n",
    "GROUP BY machine_id),\n",
    "\n",
    "\tlast_week_tbl AS (\n",
    "\n",
    "SELECT machine_id,\n",
    "\t\tAVG(energy_consumption_kwh / product_output_units) * 100 AS energy_productivity\n",
    "FROM sustainable_manufacturing\n",
    "WHERE WEEK(date, 3) = (SELECT WEEK(\"2020-01-07\", 3) AS lastweek)\n",
    "GROUP BY machine_id)\n",
    "\n",
    "SELECT first_week_tbl.machine_id AS machine_id, first_week_tbl.energy_productivity AS energy_productivity\n",
    "FROM first_week_tbl\n",
    "\n",
    "UNION \n",
    "\n",
    "SELECT last_week_tbl.machine_id AS machine_id, last_week_tbl.energy_productivity AS energy_productivity\n",
    "FROM last_week_tbl\n",
    ";\n",
    "\n",
    "\"\"\"\n",
    "\n",
    "mycursor.execute(sql)\n",
    "myresult = mycursor.fetchall()\n",
    "\n",
    "# Process results\n",
    "temp = []\n",
    "for data in myresult:\n",
    "    temp.append(data)\n",
    "\n",
    "# Create DataFrame\n",
    "columns = [desc[0] for desc in mycursor.description]\n",
    "df = pd.DataFrame(temp, columns=columns)\n",
    "print(df)\n"
   ]
  },
  {
   "cell_type": "markdown",
   "id": "417b266b",
   "metadata": {},
   "source": [
    "7. Compare average energy consumption on weekends vs. weekdays (assuming 5-day work week)."
   ]
  },
  {
   "cell_type": "code",
   "execution_count": 16,
   "id": "49ebbeb1",
   "metadata": {},
   "outputs": [
    {
     "name": "stdout",
     "output_type": "stream",
     "text": [
      "       Day Energy_consumption\n",
      "0  Weekday           302.5000\n",
      "1  Weekend           303.7500\n"
     ]
    }
   ],
   "source": [
    "\n",
    "mycursor = connection.cursor()\n",
    "\n",
    "sql = \"\"\"SELECT \"Weekday\" AS Day, AVG(energy_consumption_kwh) AS Energy_consumption\n",
    "FROM sustainable_manufacturing\n",
    "WHERE WEEKDAY(date) IN (0,4)\n",
    "\n",
    "UNION\n",
    "\n",
    "SELECT \"Weekend\", AVG(energy_consumption_kwh)\n",
    "FROM sustainable_manufacturing\n",
    "WHERE WEEKDAY(date) IN (5,6)\n",
    ";\n",
    "\"\"\"\n",
    "\n",
    "mycursor.execute(sql)\n",
    "myresult = mycursor.fetchall()\n",
    "\n",
    "# Process results\n",
    "temp = []\n",
    "for data in myresult:\n",
    "    temp.append(data)\n",
    "\n",
    "# Create DataFrame\n",
    "columns = [desc[0] for desc in mycursor.description]\n",
    "df = pd.DataFrame(temp, columns=columns)\n",
    "print(df)\n"
   ]
  },
  {
   "cell_type": "markdown",
   "id": "8f756b5c",
   "metadata": {},
   "source": [
    "8. List machines performing below department average in both energy efficiency and output."
   ]
  },
  {
   "cell_type": "code",
   "execution_count": 17,
   "id": "86b8234a",
   "metadata": {},
   "outputs": [
    {
     "name": "stdout",
     "output_type": "stream",
     "text": [
      "  Machine_ID\n",
      "0       M002\n",
      "1       M006\n",
      "2       M007\n"
     ]
    }
   ],
   "source": [
    "\n",
    "mycursor = connection.cursor()\n",
    "\n",
    "sql = \"\"\"WITH department_metrics AS (\n",
    "  SELECT \n",
    "    AVG(Product_Output_Units) AS dept_avg_output,\n",
    "    AVG(Product_Output_Units/NULLIF(Energy_Consumption_kWh,0)) AS dept_avg_energy_eff\n",
    "  FROM sustainable_manufacturing\n",
    "),\n",
    "machine_metrics AS (\n",
    "  SELECT \n",
    "    Machine_ID,\n",
    "    AVG(Product_Output_Units) AS machine_output,\n",
    "    AVG(Product_Output_Units/NULLIF(Energy_Consumption_kWh,0)) AS machine_energy_eff\n",
    "  FROM sustainable_manufacturing\n",
    "  GROUP BY Machine_ID\n",
    ")\n",
    "SELECT m.Machine_ID\n",
    "FROM machine_metrics m\n",
    "CROSS JOIN department_metrics d\n",
    "WHERE m.machine_output < d.dept_avg_output\n",
    "  AND m.machine_energy_eff < d.dept_avg_energy_eff;\n",
    "\n",
    "\"\"\"\n",
    "\n",
    "mycursor.execute(sql)\n",
    "myresult = mycursor.fetchall()\n",
    "\n",
    "# Process results\n",
    "temp = []\n",
    "for data in myresult:\n",
    "    temp.append(data)\n",
    "\n",
    "# Create DataFrame\n",
    "columns = [desc[0] for desc in mycursor.description]\n",
    "df = pd.DataFrame(temp, columns=columns)\n",
    "print(df)\n"
   ]
  },
  {
   "cell_type": "markdown",
   "id": "833377c4",
   "metadata": {},
   "source": [
    "9. Find machines with top 10% productivity but bottom 25% environmental performance."
   ]
  },
  {
   "cell_type": "code",
   "execution_count": 18,
   "id": "bd8b47a0",
   "metadata": {},
   "outputs": [
    {
     "name": "stdout",
     "output_type": "stream",
     "text": [
      "  Machine_ID\n",
      "0       M008\n"
     ]
    }
   ],
   "source": [
    "\n",
    "mycursor = connection.cursor()\n",
    "\n",
    "sql = \"\"\"WITH productivity AS (\n",
    "  SELECT Machine_ID,\n",
    "    PERCENT_RANK() OVER (ORDER BY SUM(Product_Output_Units) DESC) AS prod_rank\n",
    "  FROM sustainable_manufacturing\n",
    "  GROUP BY Machine_ID\n",
    "),\n",
    "environment AS (\n",
    "  SELECT Machine_ID,\n",
    "    PERCENT_RANK() OVER (ORDER BY SUM(CO2_Emission_kg) + SUM(Energy_Consumption_kWh) ASC) AS env_rank\n",
    "  FROM sustainable_manufacturing\n",
    "  GROUP BY Machine_ID\n",
    ")\n",
    "SELECT p.Machine_ID\n",
    "FROM productivity p\n",
    "JOIN environment e USING (Machine_ID)\n",
    "WHERE p.prod_rank <= 0.10\n",
    "  AND e.env_rank >= 0.75;\n",
    "\n",
    "\n",
    "\"\"\"\n",
    "\n",
    "mycursor.execute(sql)\n",
    "myresult = mycursor.fetchall()\n",
    "\n",
    "# Process results\n",
    "temp = []\n",
    "for data in myresult:\n",
    "    temp.append(data)\n",
    "\n",
    "# Create DataFrame\n",
    "columns = [desc[0] for desc in mycursor.description]\n",
    "df = pd.DataFrame(temp, columns=columns)\n",
    "print(df)\n"
   ]
  },
  {
   "cell_type": "markdown",
   "id": "bed0787d",
   "metadata": {},
   "source": [
    "10. Flag days where a machine's output deviates >2σ from its 7-day moving average."
   ]
  },
  {
   "cell_type": "code",
   "execution_count": 19,
   "id": "31f4d7b7",
   "metadata": {},
   "outputs": [
    {
     "name": "stdout",
     "output_type": "stream",
     "text": [
      "Empty DataFrame\n",
      "Columns: [Machine_ID, Date, Product_Output_Units, z_score]\n",
      "Index: []\n"
     ]
    }
   ],
   "source": [
    "\n",
    "mycursor = connection.cursor()\n",
    "\n",
    "sql = \"\"\"WITH moving_metrics AS (\n",
    "  SELECT Machine_ID, Date, Product_Output_Units,\n",
    "    AVG(Product_Output_Units) OVER (\n",
    "      PARTITION BY Machine_ID \n",
    "      ORDER BY Date \n",
    "      ROWS BETWEEN 6 PRECEDING AND CURRENT ROW\n",
    "    ) AS ma_7d,\n",
    "    STDDEV(Product_Output_Units) OVER (\n",
    "      PARTITION BY Machine_ID \n",
    "      ORDER BY Date \n",
    "      ROWS BETWEEN 6 PRECEDING AND CURRENT ROW\n",
    "    ) AS std_7d\n",
    "  FROM sustainable_manufacturing\n",
    ")\n",
    "SELECT Machine_ID, Date, Product_Output_Units,\n",
    "  ROUND((Product_Output_Units - ma_7d)/NULLIF(std_7d,0), 2) AS z_score\n",
    "FROM moving_metrics\n",
    "WHERE ABS((Product_Output_Units - ma_7d)/NULLIF(std_7d,0)) > 2;\n",
    "\n",
    "\n",
    "\"\"\"\n",
    "\n",
    "mycursor.execute(sql)\n",
    "myresult = mycursor.fetchall()\n",
    "\n",
    "# Process results\n",
    "temp = []\n",
    "for data in myresult:\n",
    "    temp.append(data)\n",
    "\n",
    "# Create DataFrame\n",
    "columns = [desc[0] for desc in mycursor.description]\n",
    "df = pd.DataFrame(temp, columns=columns)\n",
    "print(df)\n"
   ]
  },
  {
   "cell_type": "markdown",
   "id": "2bff4c28",
   "metadata": {},
   "source": [
    "11. Detect days with simultaneous 30%+ spikes in energy/water use and CO₂ emissions."
   ]
  },
  {
   "cell_type": "code",
   "execution_count": 20,
   "id": "0d6d2c51",
   "metadata": {},
   "outputs": [
    {
     "name": "stdout",
     "output_type": "stream",
     "text": [
      "Empty DataFrame\n",
      "Columns: [Machine_ID, Date, co2_pct, resource_pct]\n",
      "Index: []\n"
     ]
    }
   ],
   "source": [
    "\n",
    "mycursor = connection.cursor()\n",
    "\n",
    "sql = \"\"\"WITH resource_spikes AS (\n",
    "  SELECT Machine_ID, Date,\n",
    "    CO2_Emission_kg / NULLIF(LAG(CO2_Emission_kg, 1) OVER w, 0) - 1 AS co2_increase,\n",
    "    Energy_Consumption_kWh / NULLIF(LAG(Energy_Consumption_kWh, 1) OVER w, 0) - 1 AS energy_increase,\n",
    "    Water_Consumption_Liters / NULLIF(LAG(Water_Consumption_Liters, 1) OVER w, 0) - 1 AS water_increase\n",
    "  FROM sustainable_manufacturing\n",
    "  WINDOW w AS (PARTITION BY Machine_ID ORDER BY Date)\n",
    ")\n",
    "SELECT Machine_ID, Date,\n",
    "  ROUND(co2_increase*100,2) AS co2_pct,\n",
    "  ROUND(GREATEST(energy_increase, water_increase)*100,2) AS resource_pct\n",
    "FROM resource_spikes\n",
    "WHERE co2_increase >= 0.3\n",
    "  AND (energy_increase >= 0.3 OR water_increase >= 0.3);\n",
    "\n",
    "\n",
    "\"\"\"\n",
    "\n",
    "mycursor.execute(sql)\n",
    "myresult = mycursor.fetchall()\n",
    "\n",
    "# Process results\n",
    "temp = []\n",
    "for data in myresult:\n",
    "    temp.append(data)\n",
    "\n",
    "# Create DataFrame\n",
    "columns = [desc[0] for desc in mycursor.description]\n",
    "df = pd.DataFrame(temp, columns=columns)\n",
    "print(df)\n"
   ]
  },
  {
   "cell_type": "markdown",
   "id": "69d246b9",
   "metadata": {},
   "source": [
    "12. Create composite score weighting: 40% emissions, 30% energy, 20% water, 10% waste\""
   ]
  },
  {
   "cell_type": "code",
   "execution_count": 21,
   "id": "0b27410f",
   "metadata": {},
   "outputs": [
    {
     "name": "stdout",
     "output_type": "stream",
     "text": [
      "     Machine_ID Sustainability_Index\n",
      "0          M001              0.77584\n",
      "1          M001              0.77584\n",
      "2          M001              0.77584\n",
      "3          M001              0.77584\n",
      "4          M001              0.77584\n",
      "...         ...                  ...\n",
      "9995       M010              0.01200\n",
      "9996       M010              0.01200\n",
      "9997       M010              0.01200\n",
      "9998       M010              0.01200\n",
      "9999       M010              0.01200\n",
      "\n",
      "[10000 rows x 2 columns]\n"
     ]
    }
   ],
   "source": [
    "\n",
    "mycursor = connection.cursor()\n",
    "\n",
    "sql = \"\"\"WITH normalized AS (\n",
    "    SELECT Machine_ID,\n",
    "           (CO2_Emission_kg - MIN(CO2_Emission_kg) OVER()) / \n",
    "           (MAX(CO2_Emission_kg) OVER() - MIN(CO2_Emission_kg) OVER()) AS norm_co2,\n",
    "           (Energy_Consumption_kWh - MIN(Energy_Consumption_kWh) OVER()) / \n",
    "           (MAX(Energy_Consumption_kWh) OVER() - MIN(Energy_Consumption_kWh) OVER()) AS norm_energy,\n",
    "           (Water_Consumption_Liters - MIN(Water_Consumption_Liters) OVER()) / \n",
    "           (MAX(Water_Consumption_Liters) OVER() - MIN(Water_Consumption_Liters) OVER()) AS norm_water,\n",
    "           (Material_Waste_kg - MIN(Material_Waste_kg) OVER()) / \n",
    "           (MAX(Material_Waste_kg) OVER() - MIN(Material_Waste_kg) OVER()) AS norm_waste\n",
    "    FROM sustainable_manufacturing\n",
    ")\n",
    "SELECT Machine_ID,\n",
    "       (0.4 * norm_co2 + 0.3 * norm_energy + 0.2 * norm_water + 0.1 * norm_waste) AS Sustainability_Index\n",
    "FROM normalized;\n",
    "\n",
    "\n",
    "\n",
    "\"\"\"\n",
    "\n",
    "mycursor.execute(sql)\n",
    "myresult = mycursor.fetchall()\n",
    "\n",
    "# Process results\n",
    "temp = []\n",
    "for data in myresult:\n",
    "    temp.append(data)\n",
    "\n",
    "# Create DataFrame\n",
    "columns = [desc[0] for desc in mycursor.description]\n",
    "df = pd.DataFrame(temp, columns=columns)\n",
    "print(df)\n"
   ]
  },
  {
   "cell_type": "code",
   "execution_count": null,
   "id": "72c32db7",
   "metadata": {},
   "outputs": [],
   "source": []
  }
 ],
 "metadata": {
  "kernelspec": {
   "display_name": "Python 3",
   "language": "python",
   "name": "python3"
  },
  "language_info": {
   "codemirror_mode": {
    "name": "ipython",
    "version": 3
   },
   "file_extension": ".py",
   "mimetype": "text/x-python",
   "name": "python",
   "nbconvert_exporter": "python",
   "pygments_lexer": "ipython3",
   "version": "3.11.9"
  }
 },
 "nbformat": 4,
 "nbformat_minor": 5
}
